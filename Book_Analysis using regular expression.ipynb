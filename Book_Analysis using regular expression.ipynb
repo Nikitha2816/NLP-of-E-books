{
 "cells": [
  {
   "cell_type": "markdown",
   "id": "254ba624-aed3-4850-a859-1e014b08d330",
   "metadata": {},
   "source": [
    "# Load the book"
   ]
  },
  {
   "cell_type": "code",
   "execution_count": null,
   "id": "edc0c113-e20c-42d4-b422-cf10ff9b7174",
   "metadata": {},
   "outputs": [],
   "source": [
    "with open(\"miracle_in_the_andes.txt\",\"r\",encoding = \"UTF-8\") as file:\n",
    "    book = file.read()"
   ]
  },
  {
   "cell_type": "code",
   "execution_count": null,
   "id": "8eb3fc7d-e708-4ff8-860a-7b3e33159d47",
   "metadata": {
    "scrolled": false
   },
   "outputs": [],
   "source": [
    "type(book)"
   ]
  },
  {
   "cell_type": "markdown",
   "id": "e2eb4289-ece4-48d0-9e6f-c6266f9d5a5d",
   "metadata": {},
   "source": [
    "# How many chapters?"
   ]
  },
  {
   "cell_type": "code",
   "execution_count": null,
   "id": "35dcca3b-7932-4bd0-bf27-64950ee5a2f9",
   "metadata": {},
   "outputs": [],
   "source": [
    "book.count(\"Chapter\")"
   ]
  },
  {
   "cell_type": "markdown",
   "id": "b405e99c-aab6-445d-a173-274e22dcadd9",
   "metadata": {},
   "source": [
    "# How many Chapters are present? With Regular expression"
   ]
  },
  {
   "cell_type": "code",
   "execution_count": null,
   "id": "5b9b5afc-019d-4f6a-86e7-231316052ad8",
   "metadata": {},
   "outputs": [],
   "source": [
    "import re"
   ]
  },
  {
   "cell_type": "code",
   "execution_count": null,
   "id": "25121e69-a658-44b2-a375-b665f8a68bc8",
   "metadata": {},
   "outputs": [],
   "source": [
    "pattern = re.compile(\"Chapter [0-9]+\")\n",
    "findings = re.findall(pattern,book)\n",
    "len(findings)"
   ]
  },
  {
   "cell_type": "markdown",
   "id": "617c2420-6cb0-40aa-a743-c5d4213a0541",
   "metadata": {},
   "source": [
    "# Which are the sentences where happy was used?"
   ]
  },
  {
   "cell_type": "code",
   "execution_count": null,
   "id": "ba732673-43ed-4297-b59b-bc27e6e09832",
   "metadata": {},
   "outputs": [],
   "source": [
    "pattern = re.compile(\"[A-Z]{1}[^.]*[^a-zA-Z]+happy[^a-zA-Z]+[^.]*.\")\n",
    "finding = re.findall(pattern, book)\n",
    "len(finding)"
   ]
  },
  {
   "cell_type": "markdown",
   "id": "e22db86a-66da-4fea-a0ed-b6a0011e5ed2",
   "metadata": {},
   "source": [
    "# What are most used words?"
   ]
  },
  {
   "cell_type": "code",
   "execution_count": null,
   "id": "0040681b-98d4-42d5-8b48-c4664b764157",
   "metadata": {},
   "outputs": [],
   "source": [
    "pattern = re.compile(\"[a-zA-Z]+\")\n",
    "findings = re.findall(pattern,book.lower())\n",
    "len(findings)"
   ]
  },
  {
   "cell_type": "code",
   "execution_count": null,
   "id": "c333b9dd-c711-4d82-bdc9-d2b6c30193cb",
   "metadata": {},
   "outputs": [],
   "source": [
    "d ={}\n",
    "for word in findings:\n",
    "    if word in d.keys():\n",
    "        d[word] = d[word] +1\n",
    "    else:\n",
    "        d[word] = 1"
   ]
  },
  {
   "cell_type": "code",
   "execution_count": null,
   "id": "43c32ca2-5251-42cd-ab3d-b4b9547d84e7",
   "metadata": {},
   "outputs": [],
   "source": [
    "d_list = [(value,key) for (key,value) in d.items()]\n",
    "sorted(d_list, reverse = True)"
   ]
  },
  {
   "cell_type": "markdown",
   "id": "620dcb41-48cc-4efd-97a0-897541ccfd71",
   "metadata": {},
   "source": [
    "# Find paraghraphs with word happy in them"
   ]
  },
  {
   "cell_type": "code",
   "execution_count": null,
   "id": "03adbc0a-e07d-46d2-b22a-78bdfa87a099",
   "metadata": {},
   "outputs": [],
   "source": [
    "import re\n",
    "pattern = re.compile(\"[^\\n]+happy[^\\n]+\")\n",
    "findings = re.findall(pattern, book)"
   ]
  },
  {
   "cell_type": "code",
   "execution_count": null,
   "id": "99a5e344-19e6-481d-9f86-1b9d6a9c5514",
   "metadata": {},
   "outputs": [],
   "source": [
    "findings"
   ]
  },
  {
   "cell_type": "markdown",
   "id": "64f891b1-7f58-43e1-b3d8-3f06112d5a08",
   "metadata": {},
   "source": [
    "# Find the heading of all chapters"
   ]
  },
  {
   "cell_type": "code",
   "execution_count": null,
   "id": "cb19289d-8338-4dab-915f-6ed3d9e98c20",
   "metadata": {},
   "outputs": [],
   "source": [
    "import re\n",
    "pattern  = re.compile(\"([a-zA-Z]+)\\n\\n\")\n",
    "findings = re.findall(pattern, book)\n",
    "findings"
   ]
  },
  {
   "cell_type": "markdown",
   "id": "fc0e97ec-0a6c-4aeb-bd63-da5c208efc77",
   "metadata": {},
   "source": [
    "# Function that finds occurences of any word"
   ]
  },
  {
   "cell_type": "code",
   "execution_count": null,
   "id": "5ec48590-2f39-49d7-a455-1e1f9f4d6b49",
   "metadata": {},
   "outputs": [],
   "source": [
    "def find(w):\n",
    "    pattern = re.compile(\"[a-zA-Z]+\")\n",
    "    findings = re.findall(pattern, book)\n",
    "    d ={}\n",
    "    for word in findings:\n",
    "        if word in d.keys():\n",
    "            d[word] = d[word] +1\n",
    "        else:\n",
    "            d[word] = 1\n",
    "    try:\n",
    "        return d[w]\n",
    "    except:\n",
    "        return f'The book does not contain the word\"{w}\"'\n",
    "        "
   ]
  },
  {
   "cell_type": "code",
   "execution_count": null,
   "id": "c775897a-2516-4ce6-bd3f-bf5f326a456f",
   "metadata": {},
   "outputs": [],
   "source": [
    "find(\"happy\")"
   ]
  },
  {
   "cell_type": "code",
   "execution_count": null,
   "id": "5891ea55-4330-4ec6-89c4-df7b30baa88d",
   "metadata": {},
   "outputs": [],
   "source": [
    "find(\"hate\")"
   ]
  },
  {
   "cell_type": "code",
   "execution_count": null,
   "id": "a46d7f98-4ceb-47f5-aa89-265391080a0d",
   "metadata": {},
   "outputs": [],
   "source": []
  },
  {
   "cell_type": "code",
   "execution_count": null,
   "id": "1104974b",
   "metadata": {},
   "outputs": [],
   "source": []
  }
 ],
 "metadata": {
  "kernelspec": {
   "display_name": "Python 3 (ipykernel)",
   "language": "python",
   "name": "python3"
  },
  "language_info": {
   "codemirror_mode": {
    "name": "ipython",
    "version": 3
   },
   "file_extension": ".py",
   "mimetype": "text/x-python",
   "name": "python",
   "nbconvert_exporter": "python",
   "pygments_lexer": "ipython3",
   "version": "3.9.13"
  }
 },
 "nbformat": 4,
 "nbformat_minor": 5
}
